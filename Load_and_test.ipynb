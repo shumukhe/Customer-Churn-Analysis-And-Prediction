{
 "cells": [
  {
   "cell_type": "code",
   "execution_count": 1,
   "id": "7816cd3c-2f6c-4181-ba72-4aacf69bbb17",
   "metadata": {},
   "outputs": [],
   "source": [
    "from sklearn.base import BaseEstimator, TransformerMixin\n",
    "import numpy as np\n",
    "\n",
    "class LogTransformer(BaseEstimator, TransformerMixin):\n",
    "    def fit(self, X, y=None):\n",
    "        return self\n",
    "\n",
    "    def transform(self, X):\n",
    "        return np.log1p(X)"
   ]
  },
  {
   "cell_type": "code",
   "execution_count": 2,
   "id": "3c002236-b023-43a1-8fe1-a53a6b13303a",
   "metadata": {},
   "outputs": [],
   "source": [
    "from sklearn.metrics import accuracy_score, classification_report"
   ]
  },
  {
   "cell_type": "code",
   "execution_count": 5,
   "id": "9ac475cf-8ff5-4991-acb2-343cdb458d7a",
   "metadata": {},
   "outputs": [
    {
     "name": "stdout",
     "output_type": "stream",
     "text": [
      "🎯 Test accuracy from loaded model: 0.7965\n",
      "📊 Classification Report:\n",
      "\n",
      "              precision    recall  f1-score   support\n",
      "\n",
      "           0       0.94      0.80      0.86      1593\n",
      "           1       0.50      0.79      0.61       407\n",
      "\n",
      "    accuracy                           0.80      2000\n",
      "   macro avg       0.72      0.79      0.74      2000\n",
      "weighted avg       0.85      0.80      0.81      2000\n",
      "\n"
     ]
    }
   ],
   "source": [
    "import joblib\n",
    "X_test = joblib.load(\"X_test.pkl\")\n",
    "y_test = joblib.load(\"y_test.pkl\")\n",
    "loaded_model = joblib.load('final_churn_pipeline.pkl')\n",
    "y_pred = loaded_model.predict(X_test)\n",
    "print(\"🎯 Test accuracy from loaded model:\", accuracy_score(y_test, y_pred))\n",
    "print(\"📊 Classification Report:\\n\")\n",
    "print(classification_report(y_test, y_pred))"
   ]
  },
  {
   "cell_type": "code",
   "execution_count": null,
   "id": "260d8caf-86e2-42cf-a53b-96ad803318e9",
   "metadata": {},
   "outputs": [],
   "source": []
  }
 ],
 "metadata": {
  "kernelspec": {
   "display_name": "Python 3 (ipykernel)",
   "language": "python",
   "name": "python3"
  },
  "language_info": {
   "codemirror_mode": {
    "name": "ipython",
    "version": 3
   },
   "file_extension": ".py",
   "mimetype": "text/x-python",
   "name": "python",
   "nbconvert_exporter": "python",
   "pygments_lexer": "ipython3",
   "version": "3.11.7"
  }
 },
 "nbformat": 4,
 "nbformat_minor": 5
}
